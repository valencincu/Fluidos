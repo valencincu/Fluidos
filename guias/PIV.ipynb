{
 "cells": [
  {
   "cell_type": "code",
   "execution_count": 1,
   "metadata": {},
   "outputs": [],
   "source": [
    "import numpy as np\n",
    "import matplotlib.pyplot as plt\n",
    "import pandas as pd\n",
    "\n",
    "from glob import glob\n",
    "from pathlib import Path\n",
    "from openpiv import tools\n",
    "\n",
    "from utils.piv.calculate_field import calculate_field_from_multiple_frames\n",
    "from utils.piv.analysis import create_mask, calculate_center, plot_with_background"
   ]
  },
  {
   "attachments": {},
   "cell_type": "markdown",
   "metadata": {},
   "source": [
    "# Cálculo del campo de velocidades."
   ]
  },
  {
   "cell_type": "code",
   "execution_count": null,
   "metadata": {},
   "outputs": [],
   "source": [
    "# Parametros de preprocesamiento para cada video.\n",
    "# x e y: Offset del centro en x e y.\n",
    "# r: Radio del circulo que enmascara todo.\n",
    "# start: Segundo en el que iniciar a extraer.\n",
    "# total_secs: Segundos totales a extraer.\n",
    "# scale: Conversion de px a cm.\n",
    "# Crear una fila por cada nombre de archivo como en el archivo de ejemplo abajo.\n",
    "\n",
    "df = pd.read_csv(\"preproc_data_1104.csv\", sep=\",\", engine='python').set_index(\"filename\")"
   ]
  },
  {
   "cell_type": "code",
   "execution_count": null,
   "metadata": {},
   "outputs": [],
   "source": [
    "files = list(map(Path, glob(\"./proc_images/*\")))\n",
    "\n",
    "for f in files:\n",
    "    print(f'Processing {f.name[:-4]}')\n",
    "    \n",
    "    skip_frames = 15 # Fotogramas a saltear del inicio por el Removedor de Fondos.\n",
    "    scale_factor = df.loc[f.name].loc['scale']/10 # Pasar de px/cm a px/mm\n",
    "\n",
    "    # Calcular el campo de velocidades para cada par de fotogramas. Interpola el resultado.\n",
    "    mean_x, mean_y, mean_u, mean_v = calculate_field_from_multiple_frames(f, \n",
    "                                                                        skip_frames=skip_frames, \n",
    "                                                                        end_frame=-1,\n",
    "                                                                        dt=1/30, \n",
    "                                                                        searchsize=24, \n",
    "                                                                        winsize=8, \n",
    "                                                                        overlap=4, \n",
    "                                                                        threshold=1, \n",
    "                                                                        kernel_size=5, \n",
    "                                                                        max_iter=3,\n",
    "                                                                        scale_factor = scale_factor)\n",
    "\n",
    "    # Guardar archivo comprimido para evitar volver a calcular el campo.\n",
    "    np.savez_compressed(file=f'npz/{f.name[:-4]}.npz', x = mean_x, y = mean_y, u = mean_u, v = mean_v)\n",
    "\n",
    "    # Voy graficando para cada video.\n",
    "    plt.quiver(mean_x, mean_y, mean_u, mean_v)\n",
    "    plt.title(f.name[:-4])\n",
    "    plt.show()"
   ]
  },
  {
   "attachments": {},
   "cell_type": "markdown",
   "metadata": {},
   "source": [
    "# Cálculo del centro y obtención de perfiles."
   ]
  },
  {
   "attachments": {},
   "cell_type": "markdown",
   "metadata": {},
   "source": [
    "## Un ejemplo para un video. Estimar parametros para automatizar."
   ]
  },
  {
   "cell_type": "code",
   "execution_count": null,
   "metadata": {},
   "outputs": [],
   "source": [
    "# Parametros de preprocesamiento para cada video.\n",
    "# threshold: Modulo minimo de los vectores a tomar.\n",
    "# max_r: Radio maximo a tomar.\n",
    "# min_r: Radio minimo a tomar.\n",
    "\n",
    "data = np.load(f'npz/fields/2 G50 RC.npz') # Cambiar Path\n",
    "\n",
    "mean_x = data['x']\n",
    "mean_y = data['y']\n",
    "mean_u = data['u']\n",
    "mean_v = data['v']\n",
    "\n",
    "background = tools.imread(f'images/2 G50 RC.mp4/00000090.jpg') # Cambiar Path\n",
    "fig, ax = plot_with_background(background, mean_x, mean_y, mean_u, mean_v)\n",
    "\n",
    "threshold, min_r, max_r = 110, 20, 80\n",
    "\n",
    "# Mascara de puntos para calcular el centro.\n",
    "sel_x, sel_y, sel_u, sel_v = create_mask(mean_x, mean_y, mean_u, mean_v, \n",
    "                                         threshold = threshold,\n",
    "                                         min_r = min_r,\n",
    "                                         max_r = max_r,\n",
    "                                         plot_mask = True,\n",
    "                                         background=background)\n",
    "\n",
    "# Calculo del centro.\n",
    "x_c, y_c, x_c_err, y_c_err = calculate_center(mean_x, mean_y, mean_u, mean_v, \n",
    "                                              threshold = threshold,\n",
    "                                              min_r = min_r,\n",
    "                                              max_r = max_r,\n",
    "                                              plot_results = True,\n",
    "                                              background=background)"
   ]
  },
  {
   "attachments": {},
   "cell_type": "markdown",
   "metadata": {},
   "source": [
    "# Todos los videos:"
   ]
  },
  {
   "cell_type": "code",
   "execution_count": null,
   "metadata": {},
   "outputs": [],
   "source": [
    "# Parametros de preprocesamiento para cada video.\n",
    "# threshold: Modulo minimo de los vectores a tomar.\n",
    "# max_r: Radio maximo a tomar.\n",
    "# min_r: Radio minimo a tomar.\n",
    "# Crear una fila por cada nombre de archivo como en el archivo de ejemplo abajo.\n",
    "df = pd.read_csv('proc_fields.csv', engine='python', sep=',').set_index('filename')"
   ]
  },
  {
   "cell_type": "code",
   "execution_count": null,
   "metadata": {},
   "outputs": [],
   "source": [
    "files = list(map(Path, glob('npz/fields/*')))\n",
    "\n",
    "for f in files:\n",
    "    data = np.load(f'npz/fields/{f.name}')\n",
    "\n",
    "    # Levantar datos del campo.\n",
    "    mean_x = data['x']\n",
    "    mean_y = data['y']\n",
    "    mean_u = data['u']\n",
    "    mean_v = data['v']\n",
    "\n",
    "    # Calculo del centro.\n",
    "    x_c, y_c, x_c_err, y_c_err = calculate_center(mean_x, mean_y, mean_u, mean_v, \n",
    "                                                threshold = df.loc[f.name].loc['threshold'],\n",
    "                                                min_r = df.loc[f.name].loc['min_r'],\n",
    "                                                max_r = df.loc[f.name].loc['max_r'],\n",
    "                                                plot_results = False)\n",
    "\n",
    "    # Radio en mm del recipiente grande.\n",
    "    max_r = 98.5\n",
    "\n",
    "    # Centrar las matrices de x e y,\n",
    "    centered_x = mean_x.flatten() - x_c\n",
    "    centered_y = mean_y.flatten() - y_c\n",
    "\n",
    "    # Calcular el centro, y los valores de theta.\n",
    "    r = np.sqrt(centered_x**2 + centered_y**2)\n",
    "    cos_theta = centered_x / r\n",
    "    sin_theta = centered_y / r\n",
    "\n",
    "    # Calculo componentes del campo\n",
    "    Ur = cos_theta * mean_u.flatten() + sin_theta * mean_v.flatten()\n",
    "    Utheta = abs(-sin_theta * mean_u.flatten() + cos_theta * mean_v.flatten())\n",
    "\n",
    "    # Me quedo con los de radio menor al r_max.\n",
    "    masked_Ur = Ur[r < max_r]\n",
    "    masked_Utheta = Utheta[r < max_r]\n",
    "    masked_r = r[r < max_r]\n",
    "\n",
    "    masked_Ur = masked_Ur[~np.isnan(masked_Utheta)]\n",
    "    masked_r = masked_r[~np.isnan(masked_Utheta)]\n",
    "    masked_Utheta = masked_Utheta[~np.isnan(masked_Utheta)]\n",
    "\n",
    "    np.savez_compressed(f'npz/processed/{f.name}', r = masked_r, Ur=masked_Ur, Utheta=masked_Utheta)"
   ]
  }
 ],
 "metadata": {
  "kernelspec": {
   "display_name": "Python 3",
   "language": "python",
   "name": "python3"
  },
  "language_info": {
   "codemirror_mode": {
    "name": "ipython",
    "version": 3
   },
   "file_extension": ".py",
   "mimetype": "text/x-python",
   "name": "python",
   "nbconvert_exporter": "python",
   "pygments_lexer": "ipython3",
   "version": "3.10.8"
  },
  "orig_nbformat": 4
 },
 "nbformat": 4,
 "nbformat_minor": 2
}
