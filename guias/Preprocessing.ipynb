{
 "cells": [
  {
   "cell_type": "code",
   "execution_count": 1,
   "metadata": {},
   "outputs": [],
   "source": [
    "import os\n",
    "\n",
    "import pandas as pd\n",
    "import numpy as np\n",
    "import matplotlib.pyplot as plt\n",
    "\n",
    "from pathlib import Path\n",
    "from glob import glob\n",
    "from pprint import pprint\n",
    "\n",
    "from utils.preprocess.extract import FrameExtractor\n",
    "from utils.preprocess.enhance import Enhancer"
   ]
  },
  {
   "cell_type": "code",
   "execution_count": null,
   "metadata": {},
   "outputs": [],
   "source": [
    "# Parametros de preprocesamiento para cada video.\n",
    "# x e y: Offset del centro en x e y.\n",
    "# r: Radio del circulo que enmascara todo.\n",
    "# start: Segundo en el que iniciar a extraer.\n",
    "# total_secs: Segundos totales a extraer.\n",
    "# scale: Conversion de px a cm.\n",
    "# Crear una fila por cada nombre de archivo como en el archivo de ejemplo abajo.\n",
    "filename = \"preproc_data_1104.csv\"\n",
    "\n",
    "df = pd.read_csv(filename, sep=\",\", engine='python').set_index(\"filename\")\n",
    "display(df)"
   ]
  },
  {
   "attachments": {},
   "cell_type": "markdown",
   "metadata": {},
   "source": [
    "# Extract Frames"
   ]
  },
  {
   "cell_type": "code",
   "execution_count": null,
   "metadata": {},
   "outputs": [],
   "source": [
    "# Extraer videos de la carpeta para preprocesar.\n",
    "folder = './videos utilizables/*'\n",
    "videos = list(map(Path, glob(folder)))\n",
    "pprint(videos)"
   ]
  },
  {
   "cell_type": "code",
   "execution_count": null,
   "metadata": {},
   "outputs": [],
   "source": [
    "for v in videos:\n",
    "    start_sec = df.loc[v.name].loc['start']\n",
    "\n",
    "    # Para buscar los parametros cambiar esta linea a 0.1 por ejemplo\n",
    "    total_secs = df.loc[v.name].loc['total_secs'] \n",
    "\n",
    "    extractor = FrameExtractor(\n",
    "                    video_file=str(v), # Nombre del archivo\n",
    "                    output_dir=f\"images/{v.name}\", #Se guarda en una carpeta images/\n",
    "                    output_shape_ratio = 1, #Achicar la resolucion final por un factor.\n",
    "                    crop_image = True, # Recortar imagen para sacar region donde no está el recipiente.\n",
    "                    crop_circle_radius = df.loc[v.name].loc[\"r\"], # Radio de recorte.\n",
    "                    circle_offset = (df.loc[v.name].loc[\"x\"], #Offset en X e Y del centro.\n",
    "                                     df.loc[v.name].loc[\"y\"])) \n",
    "\n",
    "    extractor.extract(start_frame = 30*start_sec, \n",
    "                      end_frame = int(30*(start_sec + total_secs)))\n",
    "\n",
    "    print()"
   ]
  },
  {
   "attachments": {},
   "cell_type": "markdown",
   "metadata": {},
   "source": [
    "Ademas extraigo con el mismo codigo un solo fotograma para tomar de la regla en el video la relacion px/cm"
   ]
  },
  {
   "cell_type": "code",
   "execution_count": null,
   "metadata": {},
   "outputs": [],
   "source": [
    "df = pd.read_csv(\"preproc_data_1104.csv\", sep=\",\", engine='python').set_index(\"filename\")\n",
    "\n",
    "for v in videos:\n",
    "    print(f\"Extracting {v}.\")\n",
    "    start_sec = df.loc[v.name].loc['start']\n",
    "    total_secs = 0.1/2\n",
    "\n",
    "    extractor = FrameExtractor(\n",
    "                    video_file=str(v),\n",
    "                    output_dir=f\"frames_for_pxcm/{v.name}\",\n",
    "                    output_shape_ratio = 1,\n",
    "                    crop_image = True,\n",
    "                    crop_circle_radius = 1000,\n",
    "                    circle_offset = (df.loc[v.name].loc[\"x\"], \n",
    "                                     df.loc[v.name].loc[\"y\"]))\n",
    "\n",
    "    extractor.extract(start_frame = 30*start_sec, \n",
    "                      end_frame = int(30*(start_sec + total_secs)))\n",
    "\n",
    "    print()"
   ]
  },
  {
   "attachments": {},
   "cell_type": "markdown",
   "metadata": {},
   "source": [
    "# Enhance Frames"
   ]
  },
  {
   "cell_type": "code",
   "execution_count": null,
   "metadata": {},
   "outputs": [],
   "source": [
    "# Mejorar fotogramas ya obtenidos para el preprocesamiento de PIV.\n",
    "\n",
    "folder = \"./images/*\"\n",
    "folders = list(map(Path, glob(folder)))\n",
    "\n",
    "pprint(folders)"
   ]
  },
  {
   "cell_type": "code",
   "execution_count": null,
   "metadata": {},
   "outputs": [],
   "source": [
    "enhancer = Enhancer(use_threshold=False,\n",
    "                    use_substract_background=True)\n",
    "\n",
    "for f in folders:\n",
    "    print(f\"Enhancing {f.name}.\")\n",
    "    output = os.path.join(\"proc_images\", f.name) # Se guardan en una carpeta proc_images/\n",
    "    enhancer.process_frames(f, output)"
   ]
  }
 ],
 "metadata": {
  "kernelspec": {
   "display_name": "Python 3",
   "language": "python",
   "name": "python3"
  },
  "language_info": {
   "codemirror_mode": {
    "name": "ipython",
    "version": 3
   },
   "file_extension": ".py",
   "mimetype": "text/x-python",
   "name": "python",
   "nbconvert_exporter": "python",
   "pygments_lexer": "ipython3",
   "version": "3.10.8"
  },
  "orig_nbformat": 4
 },
 "nbformat": 4,
 "nbformat_minor": 2
}
